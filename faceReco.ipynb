{
 "cells": [
  {
   "cell_type": "code",
   "execution_count": 62,
   "metadata": {},
   "outputs": [],
   "source": [
    "#coding=utf-8"
   ]
  },
  {
   "cell_type": "code",
   "execution_count": 63,
   "metadata": {},
   "outputs": [],
   "source": [
    "from PIL import Image\n",
    "import numpy as np"
   ]
  },
  {
   "cell_type": "code",
   "execution_count": 64,
   "metadata": {},
   "outputs": [],
   "source": [
    "def color2grey(pixel):\n",
    "    return int(0.299*pixel[0] + 0.587*pixel[1] + 0.114*pixel[2])"
   ]
  },
  {
   "cell_type": "code",
   "execution_count": 65,
   "metadata": {},
   "outputs": [],
   "source": [
    "def predict(testPic):\n",
    "    global eigBasis\n",
    "    global marvin1d\n",
    "    global mean1d\n",
    "    global projection\n",
    "    Test1d = list(testPic.getdata())\n",
    "    Test1d = [color2grey(i) for i in Test1d]\n",
    "    Test1d = [(Test1d[j] - mean1d[j]) for j in range(len(marvin1d))]\n",
    "    project = np.matmul(np.transpose(eigBasis), np.array(Test1d))\n",
    "    costs = [cost_func(project, list(i)) for i in projection]\n",
    "    #prediction = costs.index(min(costs))\n",
    "    #dics = ['marvin', 'karl']\n",
    "    scores = [(1- i/sum(costs)) for i in costs]\n",
    "    result = {'marvin': scores[0], 'karl': scores[1]}\n",
    "    return result"
   ]
  },
  {
   "cell_type": "code",
   "execution_count": 66,
   "metadata": {},
   "outputs": [],
   "source": [
    "def cost_func(ls1, ls2):\n",
    "    cost = 0\n",
    "    for i in range(len(ls1)):\n",
    "        cost += (ls1[i] - ls2[i]) ** 2\n",
    "    return cost"
   ]
  },
  {
   "cell_type": "code",
   "execution_count": 69,
   "metadata": {},
   "outputs": [
    {
     "name": "stdout",
     "output_type": "stream",
     "text": [
      "50 78\n"
     ]
    }
   ],
   "source": [
    "#Load the original picture and convert it into array\n",
    "\n",
    "marvin = Image.open(\"marvin.jpg\")\n",
    "karl = Image.open(\"karl.jpg\")\n",
    "width, height = marvin.size\n",
    "print(width, height)\n",
    "marvin.show()\n",
    "karl.show()\n",
    "\n",
    "#Turn image into array\n",
    "marvin1d = list(marvin.getdata())\n",
    "karl1d = list(karl.getdata())\n",
    "\n",
    "#Convert colored to grey scale\n",
    "marvin1d = [color2grey(i) for i in marvin1d]\n",
    "karl1d = [color2grey(i) for i in karl1d]\n",
    "\n",
    "#Show the grey pics\n",
    "marvin2d = np.reshape(marvin1d, (-1, width))\n",
    "marvin = Image.fromarray(marvin2d)\n",
    "marvin.show()\n",
    "marvin.save('marvin_grey', 'PNG')\n",
    "karl2d = np.reshape(karl1d, (-1, width))\n",
    "karl = Image.fromarray(karl2d)\n",
    "karl.show()\n",
    "karl.save('karl_grey', 'PNG')"
   ]
  },
  {
   "cell_type": "code",
   "execution_count": 70,
   "metadata": {},
   "outputs": [],
   "source": [
    "#Merge the pics into a single array\n",
    "\n",
    "#Pose marvin1d and karl1d together in a row-wise manner\n",
    "picArray = [marvin1d, karl1d]\n",
    "\n",
    "#Calculate the mean1d\n",
    "mean1d = [(marvin1d[i] + karl1d[i]) / 2 for i in range(len(marvin1d))]\n",
    "\n",
    "#Substract the mean1d from picArray\n",
    "for i, ls in enumerate(picArray):\n",
    "    picArray[i] = [(ls[j] - mean1d[j]) for j in range(len(marvin1d))]\n",
    "    \n",
    "#Show the substracted pics\n",
    "marvinSub = Image.fromarray(np.reshape(picArray[0], (-1, width)))\n",
    "karlSub = Image.fromarray(np.reshape(picArray[1], (-1, width)))\n",
    "mean = Image.fromarray(np.reshape(mean1d, (-1, width)))\n",
    "mean.show()\n",
    "marvinSub.show()\n",
    "karlSub.show()"
   ]
  },
  {
   "cell_type": "code",
   "execution_count": 71,
   "metadata": {},
   "outputs": [],
   "source": [
    "#The PCA process\n",
    "#Calcuate the covariance matrix of picArray\n",
    "\n",
    "covMat = np.cov(np.transpose(picArray))  #each row is variable(pixel)"
   ]
  },
  {
   "cell_type": "code",
   "execution_count": 72,
   "metadata": {},
   "outputs": [],
   "source": [
    "#The PCA process\n",
    "#Calculate the eigenvalues and eigenvectors and convert into real number\n",
    "\n",
    "eigVal, eigVec = np.linalg.eig(covMat)"
   ]
  },
  {
   "cell_type": "code",
   "execution_count": 73,
   "metadata": {},
   "outputs": [],
   "source": [
    "#The PCA process\n",
    "#Show the eig-faces\n",
    "\n",
    "#Choose the top-5 eigenvalues\n",
    "eigNum = 5\n",
    "hiValId = []\n",
    "eigVal_ls = list(eigVal)\n",
    "eigVal_ls = [abs(i) for i in eigVal_ls]\n",
    "for i in range(eigNum):\n",
    "    maxVal = max(eigVal_ls)\n",
    "    maxId = eigVal_ls.index(maxVal)\n",
    "    #print(maxId, maxVal)\n",
    "    hiValId.append(maxId)\n",
    "    eigVal_ls[maxId] = 0\n",
    "\n",
    "#Show the top-5 eigen-faces\n",
    "for i in range(eigNum):\n",
    "    eig1d = eigVec[:, hiValId[i]].real\n",
    "    #Normalize the eigenvector to 255\n",
    "    factor = 255 / eig1d.max()\n",
    "    eig1d = np.array([i * factor for i in eig1d])\n",
    "    eig2d = np.reshape(eig1d, (-1, width))\n",
    "    eigFace1 = Image.fromarray(eig2d)\n",
    "    eigFace1.show()"
   ]
  },
  {
   "cell_type": "code",
   "execution_count": 74,
   "metadata": {},
   "outputs": [
    {
     "name": "stdout",
     "output_type": "stream",
     "text": [
      "[array([  3.94029050e+03,   2.77111667e-13,   2.77111667e-13,\n",
      "         3.90798505e-13,   3.90798505e-13]), array([ -3.94029050e+03,  -2.77111667e-13,  -2.77111667e-13,\n",
      "        -3.90798505e-13,  -3.90798505e-13])]\n"
     ]
    }
   ],
   "source": [
    "#The PCA process\n",
    "#Create the eigen-space and use it to represent the input pics\n",
    "\n",
    "eigBasis = np.transpose([eigVec[:, i] for i in hiValId]).real\n",
    "projection = [[] for __ in range(len(picArray))]\n",
    "for i, pic in enumerate(projection):\n",
    "    projection[i] = np.matmul(np.transpose(eigBasis), \n",
    "                              np.transpose(picArray[i]))\n",
    "print(projection)"
   ]
  },
  {
   "cell_type": "code",
   "execution_count": 81,
   "metadata": {},
   "outputs": [
    {
     "name": "stdout",
     "output_type": "stream",
     "text": [
      "{'marvin': 0.27488229482959181, 'karl': 0.7251177051704083}\n"
     ]
    }
   ],
   "source": [
    "testPic = Image.open(\"balloon.jpg\")\n",
    "print(predict(testPic))"
   ]
  },
  {
   "cell_type": "code",
   "execution_count": null,
   "metadata": {},
   "outputs": [],
   "source": []
  }
 ],
 "metadata": {
  "kernelspec": {
   "display_name": "Python 3",
   "language": "python",
   "name": "python3"
  },
  "language_info": {
   "codemirror_mode": {
    "name": "ipython",
    "version": 3
   },
   "file_extension": ".py",
   "mimetype": "text/x-python",
   "name": "python",
   "nbconvert_exporter": "python",
   "pygments_lexer": "ipython3",
   "version": "3.6.3"
  }
 },
 "nbformat": 4,
 "nbformat_minor": 2
}
